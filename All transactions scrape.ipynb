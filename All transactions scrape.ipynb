{
 "cells": [
  {
   "cell_type": "code",
   "execution_count": null,
   "metadata": {},
   "outputs": [],
   "source": [
    "import pandas as pd \n",
    "postcodes = pd.read_csv(\"postcodes_close.csv\")"
   ]
  },
  {
   "cell_type": "code",
   "execution_count": null,
   "metadata": {},
   "outputs": [],
   "source": [
    "pc_to_scrape = list(postcodes[\"PCDS\"])"
   ]
  },
  {
   "cell_type": "code",
   "execution_count": null,
   "metadata": {},
   "outputs": [],
   "source": [
    "#http://landregistry.data.gov.uk/app/root/doc/ppd\n",
    "sparql = \"\"\"\n",
    "prefix rdf: <http://www.w3.org/1999/02/22-rdf-syntax-ns#>\n",
    "prefix rdfs: <http://www.w3.org/2000/01/rdf-schema#>\n",
    "prefix owl: <http://www.w3.org/2002/07/owl#>\n",
    "prefix xsd: <http://www.w3.org/2001/XMLSchema#>\n",
    "prefix sr: <http://data.ordnancesurvey.co.uk/ontology/spatialrelations/>\n",
    "prefix ukhpi: <http://landregistry.data.gov.uk/def/ukhpi/>\n",
    "prefix lrppi: <http://landregistry.data.gov.uk/def/ppi/>\n",
    "prefix skos: <http://www.w3.org/2004/02/skos/core#>\n",
    "prefix lrcommon: <http://landregistry.data.gov.uk/def/common/>\n",
    "\n",
    "# Returns the Price Paid data from the default graph for each transaction record having\n",
    "# an address with the given postcode.\n",
    "# The postcode to query is set using SPARQL 1.1's 'values' clause\n",
    "\n",
    "SELECT ?paon ?saon ?street ?town ?county ?postcode ?amount ?date ?category ?propertyType\n",
    "WHERE\n",
    "{{\n",
    "  VALUES ?postcode {{\"{}\"^^xsd:string}}\n",
    "\n",
    "  ?addr lrcommon:postcode ?postcode.\n",
    "\n",
    "  ?transx lrppi:propertyAddress ?addr ;\n",
    "          lrppi:pricePaid ?amount ;\n",
    "          lrppi:transactionDate ?date ;\n",
    "          lrppi:propertyType ?propertyType ;\n",
    "          lrppi:transactionCategory/skos:prefLabel ?category.\n",
    "\n",
    "  OPTIONAL {{?addr lrcommon:county ?county}}\n",
    "  OPTIONAL {{?addr lrcommon:paon ?paon}}\n",
    "  OPTIONAL {{?addr lrcommon:saon ?saon}}\n",
    "  OPTIONAL {{?addr lrcommon:street ?street}}\n",
    "  OPTIONAL {{?addr lrcommon:town ?town}}\n",
    "}}\n",
    "ORDER BY ?amount\n",
    "\"\"\""
   ]
  },
  {
   "cell_type": "code",
   "execution_count": null,
   "metadata": {},
   "outputs": [],
   "source": [
    "url = \"http://landregistry.data.gov.uk/landregistry/query\""
   ]
  },
  {
   "cell_type": "code",
   "execution_count": null,
   "metadata": {},
   "outputs": [],
   "source": [
    "import requests\n",
    "import json"
   ]
  },
  {
   "cell_type": "code",
   "execution_count": null,
   "metadata": {},
   "outputs": [],
   "source": []
  },
  {
   "cell_type": "code",
   "execution_count": null,
   "metadata": {},
   "outputs": [],
   "source": [
    "counter = 0\n",
    "results_list = []\n",
    "for pc in pc_to_scrape:\n",
    "    \n",
    "    if counter % 50 == 0:\n",
    "        print(f\"Percentage complete is {counter/len(postcodes):0.1%}.  Counter is: {counter}. Number of postcodes is {len(results_list):,.0f}.\")\n",
    "    counter += 1\n",
    "    this_sparql = sparql.format(pc)\n",
    "    payload = {\"query\": this_sparql}\n",
    "    res = requests.post(url, payload)\n",
    "    results = json.loads(res.text)\n",
    "    bindings = results['results']['bindings']\n",
    "\n",
    "    for_pd = []\n",
    "    for result in bindings:\n",
    "        new_obj = {}\n",
    "        for key in result:\n",
    "            new_obj[key] = result[key]['value']\n",
    "        for_pd.append(new_obj)\n",
    "#     print(f\"There were {len(for_pd)} sales found in {pc}\")\n",
    "    \n",
    "    results_list.extend(for_pd)"
   ]
  },
  {
   "cell_type": "code",
   "execution_count": null,
   "metadata": {},
   "outputs": [],
   "source": [
    "import pandas as pd \n",
    "df = pd.DataFrame(results_list)\n"
   ]
  },
  {
   "cell_type": "code",
   "execution_count": null,
   "metadata": {},
   "outputs": [],
   "source": [
    "len(df)"
   ]
  },
  {
   "cell_type": "code",
   "execution_count": null,
   "metadata": {},
   "outputs": [],
   "source": [
    "f1 = df[\"category\"] == \"Standard price paid transaction\"\n",
    "df = df[f1]\n",
    "df[\"saon\"] = df[\"saon\"].fillna(\"\")\n",
    "df[\"paon\"] = df[\"paon\"].fillna(\"\")\n",
    "df[\"address\"] = df[\"paon\"] + \" \" + df[\"saon\"] + \" \" + df[\"street\"] + \" \" + df[\"town\"] + \" \" + df[\"postcode\"]\n",
    "df[\"propertyType\"] = df[\"propertyType\"].str.replace(\"http://landregistry.data.gov.uk/def/common/\", \"\")\n",
    "df.head(2)"
   ]
  },
  {
   "cell_type": "code",
   "execution_count": null,
   "metadata": {},
   "outputs": [],
   "source": [
    "cols = [\"amount\", \"address\", \"propertyType\", \"date\", \"postcode\"]\n",
    "df_cols = df[cols]\n",
    "df_cols.head()"
   ]
  },
  {
   "cell_type": "code",
   "execution_count": null,
   "metadata": {},
   "outputs": [],
   "source": [
    "df_merged = df_cols.merge(postcodes, left_on=\"postcode\", right_on=\"PCDS\")"
   ]
  },
  {
   "cell_type": "code",
   "execution_count": null,
   "metadata": {},
   "outputs": [],
   "source": [
    "cols.extend([\"LAT\", \"LONG\", \"dist_from_home_km\", \"dist_from_kl_km\"])\n",
    "df_merged_cols = df_merged[cols]"
   ]
  },
  {
   "cell_type": "code",
   "execution_count": null,
   "metadata": {},
   "outputs": [],
   "source": [
    "df_merged_cols.to_csv(\"all_.csv\")"
   ]
  },
  {
   "cell_type": "code",
   "execution_count": null,
   "metadata": {},
   "outputs": [],
   "source": [
    "import altair as alt"
   ]
  },
  {
   "cell_type": "code",
   "execution_count": null,
   "metadata": {},
   "outputs": [],
   "source": []
  },
  {
   "cell_type": "code",
   "execution_count": null,
   "metadata": {},
   "outputs": [],
   "source": [
    "df[\"date\"] = pd.to_datetime(df[\"date\"])\n",
    "df.to_csv(\"one_and_half_kings_langley.csv\", index=False)"
   ]
  },
  {
   "cell_type": "code",
   "execution_count": null,
   "metadata": {},
   "outputs": [],
   "source": [
    "alt.Chart(df.sample(5000, replace=False), width=1000).mark_bar().encode(x=\"yearmonth(date):T\",y='count()')"
   ]
  },
  {
   "cell_type": "code",
   "execution_count": null,
   "metadata": {},
   "outputs": [],
   "source": []
  },
  {
   "cell_type": "code",
   "execution_count": null,
   "metadata": {},
   "outputs": [],
   "source": []
  },
  {
   "cell_type": "code",
   "execution_count": null,
   "metadata": {},
   "outputs": [],
   "source": [
    "# # New flats which sold \n",
    "# f1 = df[\"date\"].dt.month == 5\n",
    "# f2 = df[\"date\"].dt.year == 2017\n",
    "# f3 = df[\"street\"].str.contains(\"WOODS\")\n",
    "# df_f = df[f1 & f2 & f3]\n",
    "# df_f.sort_values(\"saon\")"
   ]
  },
  {
   "cell_type": "code",
   "execution_count": null,
   "metadata": {},
   "outputs": [],
   "source": []
  },
  {
   "cell_type": "code",
   "execution_count": null,
   "metadata": {},
   "outputs": [],
   "source": []
  }
 ],
 "metadata": {
  "kernelspec": {
   "display_name": "Python 3",
   "language": "python",
   "name": "python3"
  },
  "language_info": {
   "codemirror_mode": {
    "name": "ipython",
    "version": 3
   },
   "file_extension": ".py",
   "mimetype": "text/x-python",
   "name": "python",
   "nbconvert_exporter": "python",
   "pygments_lexer": "ipython3",
   "version": "3.6.4"
  }
 },
 "nbformat": 4,
 "nbformat_minor": 2
}
