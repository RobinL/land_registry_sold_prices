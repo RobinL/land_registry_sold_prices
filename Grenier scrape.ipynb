{
 "cells": [
  {
   "cell_type": "code",
   "execution_count": null,
   "metadata": {},
   "outputs": [],
   "source": [
    "sparql = \"\"\"\n",
    "prefix rdf: <http://www.w3.org/1999/02/22-rdf-syntax-ns#>\n",
    "prefix rdfs: <http://www.w3.org/2000/01/rdf-schema#>\n",
    "prefix owl: <http://www.w3.org/2002/07/owl#>\n",
    "prefix xsd: <http://www.w3.org/2001/XMLSchema#>\n",
    "prefix sr: <http://data.ordnancesurvey.co.uk/ontology/spatialrelations/>\n",
    "prefix ukhpi: <http://landregistry.data.gov.uk/def/ukhpi/>\n",
    "prefix lrppi: <http://landregistry.data.gov.uk/def/ppi/>\n",
    "prefix skos: <http://www.w3.org/2004/02/skos/core#>\n",
    "prefix lrcommon: <http://landregistry.data.gov.uk/def/common/>\n",
    "\n",
    "# Returns the Price Paid data from the default graph for each transaction record having\n",
    "# an address with the given postcode.\n",
    "# The postcode to query is set using SPARQL 1.1's 'values' clause\n",
    "\n",
    "SELECT ?paon ?saon ?street ?town ?county ?postcode ?amount ?date ?category\n",
    "WHERE\n",
    "{\n",
    "  VALUES ?postcode {\"SE15 2RS\"^^xsd:string}\n",
    "  \n",
    "  filter contains(?postcode,\"SE15\")  \n",
    "\n",
    "  ?addr lrcommon:postcode ?postcode.\n",
    "\n",
    "  ?transx lrppi:propertyAddress ?addr ;\n",
    "          lrppi:pricePaid ?amount ;\n",
    "          lrppi:transactionDate ?date ;\n",
    "          lrppi:transactionCategory/skos:prefLabel ?category.\n",
    "\n",
    "  OPTIONAL {?addr lrcommon:county ?county}\n",
    "  OPTIONAL {?addr lrcommon:paon ?paon}\n",
    "  OPTIONAL {?addr lrcommon:saon ?saon}\n",
    "  OPTIONAL {?addr lrcommon:street ?street}\n",
    "  OPTIONAL {?addr lrcommon:town ?town}\n",
    "}\n",
    "ORDER BY ?amount\n",
    "\"\"\""
   ]
  },
  {
   "cell_type": "code",
   "execution_count": null,
   "metadata": {},
   "outputs": [],
   "source": []
  },
  {
   "cell_type": "code",
   "execution_count": null,
   "metadata": {},
   "outputs": [],
   "source": [
    "url = \"http://landregistry.data.gov.uk/landregistry/query\""
   ]
  },
  {
   "cell_type": "code",
   "execution_count": null,
   "metadata": {},
   "outputs": [],
   "source": [
    "import requests"
   ]
  },
  {
   "cell_type": "code",
   "execution_count": null,
   "metadata": {},
   "outputs": [],
   "source": [
    "payload = {\"query\": sparql}\n",
    "res = requests.post(url, payload)"
   ]
  },
  {
   "cell_type": "code",
   "execution_count": null,
   "metadata": {},
   "outputs": [],
   "source": []
  },
  {
   "cell_type": "code",
   "execution_count": null,
   "metadata": {},
   "outputs": [],
   "source": [
    "import json\n",
    "results = json.loads(res.text)"
   ]
  },
  {
   "cell_type": "code",
   "execution_count": null,
   "metadata": {},
   "outputs": [],
   "source": [
    "bindings = results['results']['bindings']\n",
    "\n",
    "for_pd = []\n",
    "for result in bindings:\n",
    "    new_obj = {}\n",
    "    for key in result:\n",
    "        new_obj[key] = result[key]['value']\n",
    "    for_pd.append(new_obj)"
   ]
  },
  {
   "cell_type": "code",
   "execution_count": null,
   "metadata": {},
   "outputs": [],
   "source": [
    "import pandas as pd \n",
    "df = pd.DataFrame(for_pd)\n",
    "df.head(2)"
   ]
  },
  {
   "cell_type": "code",
   "execution_count": null,
   "metadata": {},
   "outputs": [],
   "source": [
    "import altair as alt"
   ]
  },
  {
   "cell_type": "code",
   "execution_count": null,
   "metadata": {},
   "outputs": [],
   "source": [
    "alt.Chart(df).mark_bar().encode(x=\"year(date):T\",y='count()')"
   ]
  },
  {
   "cell_type": "code",
   "execution_count": null,
   "metadata": {},
   "outputs": [],
   "source": []
  }
 ],
 "metadata": {
  "kernelspec": {
   "display_name": "Python 3",
   "language": "python",
   "name": "python3"
  },
  "language_info": {
   "codemirror_mode": {
    "name": "ipython",
    "version": 3
   },
   "file_extension": ".py",
   "mimetype": "text/x-python",
   "name": "python",
   "nbconvert_exporter": "python",
   "pygments_lexer": "ipython3",
   "version": "3.6.4"
  }
 },
 "nbformat": 4,
 "nbformat_minor": 2
}
