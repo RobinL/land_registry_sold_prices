{
 "cells": [
  {
   "cell_type": "code",
   "execution_count": null,
   "metadata": {},
   "outputs": [],
   "source": [
    "import pandas as pd "
   ]
  },
  {
   "cell_type": "code",
   "execution_count": null,
   "metadata": {},
   "outputs": [],
   "source": [
    "df_mile = pd.read_csv(\"mile_rad.csv\", parse_dates=[\"date\"])\n",
    "# df_mile = df_mile[df_mile[\"date\"] < \"2018-07-01\"]\n",
    "df_mile[\"year\"] = df_mile.date.dt.year\n",
    "df_mile[\"yearmonth\"] = df_mile.date + pd.offsets.MonthBegin(-1)\n",
    "pt_mile = df_mile.pivot_table(index=\"yearmonth\", values=\"amount\", aggfunc = (\"count\",\"mean\"))\n",
    "pt_mile.columns = [\"mile_count\", \"mile_mean_amount\"]\n",
    "pt_mile = pt_mile.reset_index()\n",
    "pt_mile.to_csv(\"pt_mile_radius.csv\", index=False)"
   ]
  },
  {
   "cell_type": "code",
   "execution_count": null,
   "metadata": {},
   "outputs": [],
   "source": [
    "df_half_mile = pd.read_csv(\"half_mile_rad.csv\", parse_dates=[\"date\"])\n",
    "# df_half_mile = df_half_mile[df_half_mile[\"date\"] < \"2018-07-01\"]\n",
    "df_half_mile[\"year\"] = df_half_mile.date.dt.year\n",
    "df_half_mile[\"yearmonth\"] = df_half_mile.date + pd.offsets.MonthBegin(-1)\n",
    "pt_mile = df_half_mile.pivot_table(index=\"yearmonth\", values=\"amount\", aggfunc = (\"count\",\"mean\"))\n",
    "pt_mile.columns = [\"mile_count\", \"mile_mean_amount\"]\n",
    "pt_mile = pt_mile.reset_index()\n",
    "pt_mile.to_csv(\"pt_half_mile_radius.csv\", index=False)"
   ]
  },
  {
   "cell_type": "code",
   "execution_count": null,
   "metadata": {},
   "outputs": [],
   "source": [
    "df_grenier = df_mile[df_mile[\"postcode\"]==\"SE15 2RS\"]\n",
    "df_grenier[\"year\"] = df_grenier.date.dt.year\n",
    "df_grenier[\"yearmonth\"] = df_grenier.date + pd.offsets.MonthBegin(-1)\n",
    "pt_grenier = df_grenier.pivot_table(index=\"yearmonth\", values=\"amount\", aggfunc = (\"count\",\"mean\"))\n",
    "pt_grenier.columns = [\"mile_count\", \"mile_mean_amount\"]\n",
    "pt_grenier = pt_grenier.reset_index()\n",
    "pt_grenier.to_csv(\"pt_grenier.csv\", index=False)"
   ]
  },
  {
   "cell_type": "code",
   "execution_count": null,
   "metadata": {},
   "outputs": [],
   "source": [
    "import altair as alt"
   ]
  },
  {
   "cell_type": "code",
   "execution_count": null,
   "metadata": {},
   "outputs": [],
   "source": []
  },
  {
   "cell_type": "code",
   "execution_count": null,
   "metadata": {},
   "outputs": [],
   "source": [
    "\n",
    "brush = alt.selection(type='interval', encodings=['x'])\n",
    "\n",
    "c1 = alt.Chart(width=1000, height=200).mark_bar().encode(y = \"mile_mean_amount:Q\", x = alt.X(\"yearmonth:T\", scale={'domain': brush.ref()}))\n",
    "c2 = c1.encode(y=\"mile_count:Q\")\n",
    "c3 = c1.encode(y=\"mile_count:Q\", x='yearmonth:T')\n",
    "c3 = c3.add_selection(brush).properties(height=30)\n",
    "chart_all = alt.vconcat(c1, c2, c3, data=pt_mile)\n",
    "chart_all"
   ]
  },
  {
   "cell_type": "code",
   "execution_count": null,
   "metadata": {},
   "outputs": [],
   "source": []
  },
  {
   "cell_type": "code",
   "execution_count": null,
   "metadata": {},
   "outputs": [],
   "source": []
  },
  {
   "cell_type": "code",
   "execution_count": null,
   "metadata": {},
   "outputs": [],
   "source": [
    "chart_all.save(\"chart.vl.json\")"
   ]
  },
  {
   "cell_type": "code",
   "execution_count": null,
   "metadata": {},
   "outputs": [],
   "source": []
  },
  {
   "cell_type": "code",
   "execution_count": null,
   "metadata": {},
   "outputs": [],
   "source": []
  }
 ],
 "metadata": {
  "kernelspec": {
   "display_name": "Python 3",
   "language": "python",
   "name": "python3"
  },
  "language_info": {
   "codemirror_mode": {
    "name": "ipython",
    "version": 3
   },
   "file_extension": ".py",
   "mimetype": "text/x-python",
   "name": "python",
   "nbconvert_exporter": "python",
   "pygments_lexer": "ipython3",
   "version": "3.6.4"
  }
 },
 "nbformat": 4,
 "nbformat_minor": 2
}
