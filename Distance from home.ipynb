{
 "cells": [
  {
   "cell_type": "code",
   "execution_count": null,
   "metadata": {},
   "outputs": [],
   "source": [
    "import pandas as pd \n",
    "import geopandas\n",
    "from shapely.geometry import Point\n",
    "postcodes = pd.read_parquet(\"s3://alpha-everyone/platform_demos/performance/natstats_postcodes.parquet\")\n",
    "# f1 = df[\"RGN\"] == \"E12000007\"\n",
    "# df = df[f1]\n",
    "# dfs = df.sample(1000)\n",
    "# df.to_parquet(\"london_postcodes.parquet\")\n",
    "# postcodes = pd.read_parquet(\"postcodes.parquet\")"
   ]
  },
  {
   "cell_type": "code",
   "execution_count": null,
   "metadata": {},
   "outputs": [],
   "source": [
    "postcodes[\"coords\"] = list(zip(postcodes.LONG, postcodes.LAT))\n",
    "postcodes['geometry'] = postcodes['coords'].apply(Point)"
   ]
  },
  {
   "cell_type": "code",
   "execution_count": null,
   "metadata": {},
   "outputs": [],
   "source": [
    "geopostcodes = geopandas.GeoDataFrame(postcodes, geometry='geometry', crs={'init': 'epsg:4326'})\n",
    "geopostcodes.to_crs(epsg=27700, inplace=True)"
   ]
  },
  {
   "cell_type": "code",
   "execution_count": null,
   "metadata": {},
   "outputs": [],
   "source": [
    "postcodes[\"dist_from_home_km\"] = geopostcodes.geometry.distance(Point(534920,177358))/1000\n"
   ]
  },
  {
   "cell_type": "code",
   "execution_count": null,
   "metadata": {},
   "outputs": [],
   "source": [
    "postcodes[\"dist_from_kl_km\"] = geopostcodes.geometry.distance(Point(506499,202931))/1000\n"
   ]
  },
  {
   "cell_type": "code",
   "execution_count": null,
   "metadata": {},
   "outputs": [],
   "source": [
    "f1 = postcodes['dist_from_home_km'] < 3\n",
    "f2 = postcodes['dist_from_kl_km'] < 3"
   ]
  },
  {
   "cell_type": "code",
   "execution_count": null,
   "metadata": {},
   "outputs": [],
   "source": [
    "pc_close = postcodes[f1 | f2]"
   ]
  },
  {
   "cell_type": "code",
   "execution_count": null,
   "metadata": {},
   "outputs": [],
   "source": [
    "cols = [\"dist_from_home_km\", \"dist_from_kl_km\", \"LAUA\", \"LAT\", \"LONG\", \"PCD\"]\n",
    "pc_close_cols = pc_close[cols]"
   ]
  },
  {
   "cell_type": "code",
   "execution_count": null,
   "metadata": {},
   "outputs": [],
   "source": [
    "pc_close_cols.to_parquet(\"postcodes_close.parquet\")"
   ]
  },
  {
   "cell_type": "code",
   "execution_count": null,
   "metadata": {},
   "outputs": [],
   "source": [
    "pc_close_cols.to_csv(\"postcodes_close.csv\", index=False)"
   ]
  },
  {
   "cell_type": "code",
   "execution_count": null,
   "metadata": {},
   "outputs": [],
   "source": [
    "len(pc_close)"
   ]
  },
  {
   "cell_type": "code",
   "execution_count": null,
   "metadata": {},
   "outputs": [],
   "source": [
    "1+1"
   ]
  },
  {
   "cell_type": "code",
   "execution_count": null,
   "metadata": {},
   "outputs": [],
   "source": []
  }
 ],
 "metadata": {
  "kernelspec": {
   "display_name": "Python 3",
   "language": "python",
   "name": "python3"
  },
  "language_info": {
   "codemirror_mode": {
    "name": "ipython",
    "version": 3
   },
   "file_extension": ".py",
   "mimetype": "text/x-python",
   "name": "python",
   "nbconvert_exporter": "python",
   "pygments_lexer": "ipython3",
   "version": "3.6.6"
  }
 },
 "nbformat": 4,
 "nbformat_minor": 2
}
